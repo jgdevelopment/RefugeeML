{
 "cells": [
  {
   "cell_type": "code",
   "execution_count": 6,
   "metadata": {},
   "outputs": [
    {
     "ename": "ModuleNotFoundError",
     "evalue": "No module named 'xgboost'",
     "output_type": "error",
     "traceback": [
      "\u001b[0;31m---------------------------------------------------------------------------\u001b[0m",
      "\u001b[0;31mModuleNotFoundError\u001b[0m                       Traceback (most recent call last)",
      "\u001b[0;32m<ipython-input-6-2e783c110e58>\u001b[0m in \u001b[0;36m<module>\u001b[0;34m\u001b[0m\n\u001b[1;32m      1\u001b[0m \u001b[0;32mimport\u001b[0m \u001b[0mnumpy\u001b[0m \u001b[0;32mas\u001b[0m \u001b[0mnp\u001b[0m\u001b[0;34m\u001b[0m\u001b[0;34m\u001b[0m\u001b[0m\n\u001b[0;32m----> 2\u001b[0;31m \u001b[0;32mimport\u001b[0m \u001b[0mxgboost\u001b[0m \u001b[0;32mas\u001b[0m \u001b[0mxgb\u001b[0m\u001b[0;34m\u001b[0m\u001b[0;34m\u001b[0m\u001b[0m\n\u001b[0m\u001b[1;32m      3\u001b[0m \u001b[0;32mimport\u001b[0m \u001b[0mcsv\u001b[0m\u001b[0;34m\u001b[0m\u001b[0;34m\u001b[0m\u001b[0m\n",
      "\u001b[0;31mModuleNotFoundError\u001b[0m: No module named 'xgboost'"
     ]
    }
   ],
   "source": [
    "import numpy as np\n",
    "import xgboost as xgb\n",
    "import csv"
   ]
  },
  {
   "cell_type": "code",
   "execution_count": 36,
   "metadata": {},
   "outputs": [],
   "source": [
    "class KNearestNeighbor(object):\n",
    "    \"\"\" a kNN classifier with L2 distance \"\"\"\n",
    "\n",
    "    def __init__(self):\n",
    "        pass\n",
    "\n",
    "    def train(self, X, y):\n",
    "        \"\"\"\n",
    "        Train the classifier. For k-nearest neighbors this is just \n",
    "        memorizing the training data.\n",
    "\n",
    "        Inputs:\n",
    "        - X: A numpy array of shape (num_train, D) containing the training data\n",
    "          consisting of num_train samples each of dimension D.\n",
    "        - y: A numpy array of shape (N,) containing the training labels, where\n",
    "             y[i] is the label for X[i].\n",
    "        \"\"\"\n",
    "        self.X_train = X\n",
    "        self.y_train = y\n",
    "\n",
    "    def predict(self, X, k=1, num_loops=0):\n",
    "        \"\"\"\n",
    "        Predict labels for test data using this classifier.\n",
    "\n",
    "        Inputs:\n",
    "        - X: A numpy array of shape (num_test, D) containing test data consisting\n",
    "             of num_test samples each of dimension D.\n",
    "        - k: The number of nearest neighbors that vote for the predicted labels.\n",
    "        - num_loops: Determines which implementation to use to compute distances\n",
    "          between training points and testing points.\n",
    "\n",
    "        Returns:\n",
    "        - y: A numpy array of shape (num_test,) containing predicted labels for the\n",
    "          test data, where y[i] is the predicted label for the test point X[i].  \n",
    "        \"\"\"\n",
    "        if num_loops == 0:\n",
    "            dists = self.compute_distances_no_loops(X)\n",
    "        elif num_loops == 1:\n",
    "            dists = self.compute_distances_one_loop(X)\n",
    "        elif num_loops == 2:\n",
    "            dists = self.compute_distances_two_loops(X)\n",
    "        else:\n",
    "            raise ValueError('Invalid value %d for num_loops' % num_loops)\n",
    "\n",
    "        return self.predict_labels(dists, k=k)\n",
    "\n",
    "    def compute_distances(self, X):\n",
    "        \"\"\"\n",
    "        Compute the distance between each test point in X and each training point\n",
    "        in self.X_train using no explicit loops.\n",
    "\n",
    "        Input / Output: Same as compute_distances_two_loops\n",
    "        \"\"\"\n",
    "        num_test = X.shape[0]\n",
    "        num_train = self.X_train.shape[0]\n",
    "        dists = np.zeros((num_test, num_train)) \n",
    "        # expand the square differences into quadratic form, and re-arrange the terms\n",
    "        # get dist_11 = sqrt(x1^2...+x1_tr^2...-2(x1*x1_tr+...)) across first row, sum over columns\n",
    "        X_terms = np.sum(np.square(X), axis=1)\n",
    "        Xtr_terms = np.sum(np.square(self.X_train), axis=1)\n",
    "        X_Xtr = np.dot(X,np.transpose(self.X_train)) #transpose to element wise multiply x12 with x_tr12 e.g.\n",
    "\n",
    "        dists = np.sqrt(X_terms[:,np.newaxis]+Xtr_terms[np.newaxis,:]-2*X_Xtr)\n",
    "        return dists\n",
    "\n",
    "    def predict_labels(self, dists, k=1):\n",
    "        \"\"\"\n",
    "        Given a matrix of distances between test points and training points,\n",
    "        predict a label for each test point.\n",
    "\n",
    "        Inputs:\n",
    "        - dists: A numpy array of shape (num_test, num_train) where dists[i, j]\n",
    "          gives the distance betwen the ith test point and the jth training point.\n",
    "\n",
    "        Returns:\n",
    "        - y: A numpy array of shape (num_test,) containing predicted labels for the\n",
    "          test data, where y[i] is the predicted label for the test point X[i].  \n",
    "        \"\"\"\n",
    "        num_test = dists.shape[0]\n",
    "        y_pred = np.zeros(num_test)\n",
    "        for i in range(num_test):\n",
    "            # A list of length k storing the labels of the k nearest neighbors to\n",
    "            # the ith test point.\n",
    "            closest_y = np.array(self.y_train[np.argsort(dists[i,:],axis=0)[:k]])\n",
    "            y_pred[i] = np.bincount(closest_y).argmax()\n",
    "\n",
    "        return y_pred"
   ]
  },
  {
   "cell_type": "code",
   "execution_count": 37,
   "metadata": {},
   "outputs": [],
   "source": [
    "# load csv file\n",
    "data_pathname = \"/Users/Jason/Documents/CS 221/project/dataset/ASR2016-clean.csv\"\n",
    "data_file = open(data_pathname, 'r')\n",
    "reader = csv.reader(data_file)\n",
    "headers = next(reader, None) # skip headers in csv\n",
    "\n",
    "# northeast, south, midwest, west\n",
    "X = [[], [], [], []] \n",
    "y = [[], [], [], []]\n",
    "\n",
    "# load regional data and labels\n",
    "for row in reader:\n",
    "    row = [float(item) if item !=' ' else -1.0 for item in row]\n",
    "    \n",
    "    region = int(row[0] - 1)\n",
    "    \n",
    "    label = row[-1] == float('1') # is employed\n",
    "    features = row[1:-1] # 32 features\n",
    "    \n",
    "    X[region].append(features)\n",
    "    y[region].append(label)"
   ]
  },
  {
   "cell_type": "code",
   "execution_count": 38,
   "metadata": {},
   "outputs": [],
   "source": [
    "# split regions into train-test-validation sets\n",
    "NUM_REGIONS = 4\n",
    "PERCENT_TEST = 0.8\n",
    "\n",
    "X_train = [[], [], [], []] \n",
    "X_test = [[], [], [], []] \n",
    "y_train = [[], [], [], []]\n",
    "y_test = [[], [], [], []]\n",
    "\n",
    "for region in range(NUM_REGIONS):\n",
    "    num_training = int(PERCENT_TEST*len(y[region]))\n",
    "    \n",
    "    X_train[region] = np.asarray(X[region])[:num_training]\n",
    "    X_test[region] = np.asarray(X[region])[num_training + 1:]\n",
    "    \n",
    "    y_train[region] = np.asarray(y[region])[:num_training]\n",
    "    y_test[region] = np.asarray(y[region])[num_training + 1:]"
   ]
  },
  {
   "cell_type": "code",
   "execution_count": 39,
   "metadata": {},
   "outputs": [],
   "source": [
    "# train classification on each region \n",
    "classifiers = [[], [], [], []] \n",
    "for region in range(NUM_REGIONS):\n",
    "    num_test = X_test[region].shape[0]\n",
    "    classifiers[region] = KNearestNeighbor()\n",
    "    classifiers[region].train(X_train[region], y_train[region])"
   ]
  },
  {
   "cell_type": "code",
   "execution_count": 40,
   "metadata": {},
   "outputs": [
    {
     "name": "stdout",
     "output_type": "stream",
     "text": [
      "Got 111 / 230 correct => accuracy: 0.482609\n",
      "Got 227 / 230 correct => accuracy: 0.986957\n",
      "Got 210 / 230 correct => accuracy: 0.913043\n",
      "Got 186 / 230 correct => accuracy: 0.808696\n"
     ]
    }
   ],
   "source": [
    "# evaluate on each region\n",
    "for region in range(NUM_REGIONS):\n",
    "    dists =  classifiers[region].compute_distances(X_test[region])\n",
    "    y_test_pred = classifiers[region].predict_labels(dists, k=25)\n",
    "    num_correct = np.sum(y_test_pred == y_test[region])\n",
    "    accuracy = float(num_correct) / num_test\n",
    "    print('Got %d / %d correct => accuracy: %f' % (num_correct, num_test, accuracy))"
   ]
  },
  {
   "cell_type": "code",
   "execution_count": null,
   "metadata": {},
   "outputs": [],
   "source": []
  }
 ],
 "metadata": {
  "kernelspec": {
   "display_name": "Python 3",
   "language": "python",
   "name": "python3"
  },
  "language_info": {
   "codemirror_mode": {
    "name": "ipython",
    "version": 3
   },
   "file_extension": ".py",
   "mimetype": "text/x-python",
   "name": "python",
   "nbconvert_exporter": "python",
   "pygments_lexer": "ipython3",
   "version": "3.6.8"
  }
 },
 "nbformat": 4,
 "nbformat_minor": 2
}
