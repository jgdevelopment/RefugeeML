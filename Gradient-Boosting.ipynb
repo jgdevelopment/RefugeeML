{
 "cells": [
  {
   "cell_type": "code",
   "execution_count": null,
   "metadata": {},
   "outputs": [],
   "source": [
    "import numpy as np\n",
    "import csv\n",
    "import math\n",
    "import progressbar\n",
    "import xgboostlib"
   ]
  },
  {
   "cell_type": "code",
   "execution_count": null,
   "metadata": {},
   "outputs": [],
   "source": [
    "# load csv file\n",
    "data_pathname = \"/Users/Jason/Documents/CS 221/project/dataset/ASR2016-clean.csv\"\n",
    "data_file = open(data_pathname, 'r')\n",
    "reader = csv.reader(data_file)\n",
    "headers = next(reader, None) # skip headers in csv\n",
    "\n",
    "# northeast, south, midwest, west\n",
    "X = [[], [], [], []] \n",
    "y = [[], [], [], []]\n",
    "\n",
    "# load regional data and labels\n",
    "for row in reader:\n",
    "    row = [float(item) if item !=' ' else -1.0 for item in row]\n",
    "    \n",
    "    region = int(row[0] - 1)\n",
    "    \n",
    "    label = row[-1] == float('1') # is employed\n",
    "    features = row[1:-1] # 32 features\n",
    "    \n",
    "    X[region].append(features)\n",
    "    y[region].append(label)"
   ]
  },
  {
   "cell_type": "code",
   "execution_count": null,
   "metadata": {},
   "outputs": [],
   "source": [
    "# split regions into train-test-validation sets\n",
    "NUM_REGIONS = 1\n",
    "PERCENT_TRAIN = 0.8\n",
    "\n",
    "X_train = [[], [], [], []] \n",
    "X_test = [[], [], [], []] \n",
    "y_train = [[], [], [], []]\n",
    "y_test = [[], [], [], []]\n",
    "\n",
    "for region in range(NUM_REGIONS):\n",
    "    num_training = int(PERCENT_TRAIN*len(y[region]))\n",
    "    \n",
    "    X_train[region] = np.asarray(X[region])[:num_training]\n",
    "    X_test[region] = np.asarray(X[region])[num_training + 1:]\n",
    "    \n",
    "    y_train[region] = np.asarray(y[region])[:num_training]\n",
    "    y_test[region] = np.asarray(y[region])[num_training + 1:]"
   ]
  },
  {
   "cell_type": "code",
   "execution_count": null,
   "metadata": {},
   "outputs": [],
   "source": [
    "# XGBoost Classifier (from https://github.com/eriklindernoren/ML-From-Scratch)\n",
    "# train XGBoost neighbors classification on each region \n",
    "clfs = [[], [], [], []]\n",
    "for region in range(NUM_REGIONS):\n",
    "    y_train[region] = y_train[region].astype(int)\n",
    "    clfs[region] = xgboostlib.XGBoost()\n",
    "    clfs[region].fit(X_train[region], y_train[region])"
   ]
  },
  {
   "cell_type": "code",
   "execution_count": null,
   "metadata": {},
   "outputs": [],
   "source": [
    "def accuracy_score(y_true, y_pred):\n",
    "    \"\"\" Compare y_true to y_pred and return the accuracy \"\"\"\n",
    "    accuracy = np.sum(y_true == y_pred, axis=0) / len(y_true)\n",
    "    return accuracy\n",
    "\n",
    "y_logits = [[], [], [], []]\n",
    "# evaluate XGBoost neighbors on each region in test set\n",
    "for region in range(NUM_REGIONS):\n",
    "    y_pred = clfs[region].predict(X_test[region])\n",
    "    y_logits[region] = clfs[region].logits[:, 1]\n",
    "    accuracy = accuracy_score(y_test[region], y_pred)\n",
    "    print(accuracy)"
   ]
  }
 ],
 "metadata": {
  "kernelspec": {
   "display_name": "Python 3",
   "language": "python",
   "name": "python3"
  },
  "language_info": {
   "codemirror_mode": {
    "name": "ipython",
    "version": 3
   },
   "file_extension": ".py",
   "mimetype": "text/x-python",
   "name": "python",
   "nbconvert_exporter": "python",
   "pygments_lexer": "ipython3",
   "version": "3.6.8"
  }
 },
 "nbformat": 4,
 "nbformat_minor": 2
}
