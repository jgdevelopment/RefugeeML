{
 "cells": [
  {
   "cell_type": "code",
   "execution_count": 105,
   "metadata": {},
   "outputs": [],
   "source": [
    "import numpy as np\n",
    "import csv\n",
    "import math\n",
    "import progressbar\n",
    "import xgboostlib\n",
    "import random\n",
    "\n",
    "from sklearn.model_selection import cross_val_score"
   ]
  },
  {
   "cell_type": "code",
   "execution_count": 106,
   "metadata": {},
   "outputs": [],
   "source": [
    "# load csv file\n",
    "data_pathname = \"./dataset/ASR2016-clean.csv\"\n",
    "data_file = open(data_pathname, 'r')\n",
    "reader = csv.reader(data_file)\n",
    "headers = next(reader, None) # skip headers in csv\n",
    "\n",
    "# northeast, south, midwest, west\n",
    "X = [[], [], [], []] \n",
    "y = [[], [], [], []]\n",
    "\n",
    "# load regional data and labels\n",
    "for row in reader:\n",
    "    row = [float(item) if item !=' ' else -1.0 for item in row]\n",
    "    \n",
    "    region = int(row[0] - 1)\n",
    "    \n",
    "    label = row[-1] == float('1') # is employed\n",
    "    features = row[1:-1] # 32 features\n",
    "    \n",
    "    X[region].append(features)\n",
    "    y[region].append(label)"
   ]
  },
  {
   "cell_type": "code",
   "execution_count": 107,
   "metadata": {},
   "outputs": [],
   "source": [
    "# split regions into train-test-validation sets\n",
    "NUM_REGIONS = 4\n",
    "PERCENT_TRAIN = 0.8\n",
    "\n",
    "X_train = [[], [], [], []] \n",
    "X_test = [[], [], [], []] \n",
    "y_train = [[], [], [], []]\n",
    "y_test = [[], [], [], []]\n",
    "\n",
    "for region in range(NUM_REGIONS):\n",
    "    num_training = int(PERCENT_TRAIN*len(y[region]))\n",
    "    \n",
    "    \n",
    "    X_train[region] = np.asarray(X[region])[:num_training]\n",
    "    X_test[region] = np.asarray(X[region])[num_training + 1:]\n",
    "    \n",
    "    y_train[region] = np.asarray(y[region])[:num_training]\n",
    "    y_test[region] = np.asarray(y[region])[num_training + 1:]"
   ]
  },
  {
   "cell_type": "code",
   "execution_count": null,
   "metadata": {
    "scrolled": true
   },
   "outputs": [
    {
     "name": "stderr",
     "output_type": "stream",
     "text": [
      "Training:   0% [                                               ] ETA:  --:--:--\r"
     ]
    },
    {
     "name": "stdout",
     "output_type": "stream",
     "text": [
      "===============REGION: 2===============\n",
      "Iteration 0\n",
      "Hyperparameters: eta=0.03307843342795409 max_depth=10\n",
      "Starting Cross-Validation for region 2\n"
     ]
    },
    {
     "name": "stderr",
     "output_type": "stream",
     "text": [
      "Training: 100% [------------------------------------------------] Time: 0:07:13\n",
      "Training:   0% [                                               ] ETA:  --:--:--\r"
     ]
    },
    {
     "name": "stdout",
     "output_type": "stream",
     "text": [
      "Score for fold 0: 0.9230769230769231\n"
     ]
    },
    {
     "name": "stderr",
     "output_type": "stream",
     "text": [
      "Training: 100% [------------------------------------------------] Time: 0:06:57\n",
      "Training:   0% [                                               ] ETA:  --:--:--\r"
     ]
    },
    {
     "name": "stdout",
     "output_type": "stream",
     "text": [
      "Score for fold 1: 0.9321266968325792\n"
     ]
    },
    {
     "name": "stderr",
     "output_type": "stream",
     "text": [
      "Training: 100% [------------------------------------------------] Time: 0:07:13\n",
      "Training:   0% [                                               ] ETA:  --:--:--\r"
     ]
    },
    {
     "name": "stdout",
     "output_type": "stream",
     "text": [
      "Score for fold 2: 0.9366515837104072\n"
     ]
    },
    {
     "name": "stderr",
     "output_type": "stream",
     "text": [
      "Training:  12% [------                                          ] ETA:  0:06:01\r"
     ]
    }
   ],
   "source": [
    "# XGBoost Classifier (from https://github.com/eriklindernoren/ML-From-Scratch)\n",
    "# train XGBoost neighbors classification on each region \n",
    "import matplotlib.pyplot as plt\n",
    "\n",
    "NUM_SEARCH_ITERS = 10\n",
    "\n",
    "for region in range(2, NUM_REGIONS):\n",
    "    \n",
    "    print(\"===============REGION: \" + str(region) + \"===============\")\n",
    "    best_accuracy = 0\n",
    "    best_params = [None, None]\n",
    "    \n",
    "    for iter in range(NUM_SEARCH_ITERS):\n",
    "        \n",
    "        #hyperparams: random search\n",
    "        learn_rate = random.uniform(0.01, 0.1)\n",
    "        max_depth = random.randint(2,10) #default is 6\n",
    "        #min_splt_loss = random.randint(0,5) #default is 0\n",
    "\n",
    "        print(\"Iteration \"+ str(iter))\n",
    "        print(\"Hyperparameters: eta=\" + str(learn_rate) + \" max_depth=\"+str(max_depth))\n",
    "\n",
    "        clfs = [[], [], [], []]\n",
    "        \n",
    "        #cross validation: \n",
    "        FOLDS = 5\n",
    "        X_sec = np.array_split(X_train[region], FOLDS)\n",
    "        y_sec = np.array_split(y_train[region], FOLDS) # breaks if percent train <= 0.5?\n",
    "\n",
    "        #do cross validaion FOLDS=5 times. print accuracy for each. \n",
    "        total_accuracy = 0\n",
    "        print(\"Starting Cross-Validation for region \"+str(region))\n",
    "        for i in range(FOLDS):\n",
    "            #format the data\n",
    "            cv_y_train = np.array(y_sec[:i] + y_sec[i+1:]).reshape(-1)       \n",
    "            cv_X_train = np.array(X_sec[:i] + X_sec[i+1:])\n",
    "            cv_X_train = cv_X_train.reshape(-1, cv_X_train.shape[-1])\n",
    "\n",
    "            cv_y_test = np.array(y_sec[i])\n",
    "            cv_X_test = np.array(X_sec[i])\n",
    "\n",
    "            #training  \n",
    "            cv_y_train = cv_y_train.astype(int)\n",
    "            clfs[region] = xgboostlib.XGBoost(\\\n",
    "                learning_rate = learn_rate, max_depth = max_depth)#todo: add more params\n",
    "            clfs[region].fit(cv_X_train, cv_y_train)\n",
    "\n",
    "            #testing\n",
    "            def accuracy_score(y_true, y_pred):\n",
    "                accuracy = np.sum(y_true == y_pred, axis=0) / len(y_true)\n",
    "                return accuracy\n",
    "\n",
    "            y_logits = [[], [], [], []]\n",
    "            y_pred = clfs[region].predict(cv_X_test)\n",
    "\n",
    "            y_logits[region] = clfs[region].logits[:, 1]\n",
    "\n",
    "            accuracy = accuracy_score(cv_y_test, y_pred)\n",
    "            total_accuracy += accuracy\n",
    "\n",
    "            print(\"Score for fold \"+ str(i) + \": \" + str(accuracy))\n",
    "\n",
    "        avg_accuracy = total_accuracy / FOLDS\n",
    "        print(\"Average accuracy for region \"+ str(region) + \": \" + str(avg_accuracy))\n",
    "\n",
    "        if avg_accuracy > best_accuracy:\n",
    "            best_accuracy = avg_accuracy\n",
    "            best_params = [learn_rate, max_depth]\n",
    "\n",
    "    print(\"Region: \" + str(region) + \", Best accuracy: \" + str(best_accuracy)  + \", with learning rate: \" \\\n",
    "      + str(best_params[0])  + \", and max depth: \" + str(best_params[1]))\n"
   ]
  },
  {
   "cell_type": "code",
   "execution_count": 127,
   "metadata": {},
   "outputs": [
    {
     "name": "stdout",
     "output_type": "stream",
     "text": [
      "Region: 0, Best accuracy: 0.9109243697478991, with learning rate: 0.06838765161547133, and max depth: 2\n"
     ]
    }
   ],
   "source": [
    "\n",
    "# for each region, use the best hyperparameters\n",
    "# plot loss over training iterations (not num iters)\n",
    "\n",
    "# train again, using the best hyperparamters \n",
    "# keep the logits --> so we can input into matching algorithm, \n",
    "# for now we can simply just pick the highest guess across each region"
   ]
  },
  {
   "cell_type": "code",
   "execution_count": null,
   "metadata": {},
   "outputs": [],
   "source": [
    "#"
   ]
  }
 ],
 "metadata": {
  "kernelspec": {
   "display_name": "Python 3",
   "language": "python",
   "name": "python3"
  },
  "language_info": {
   "codemirror_mode": {
    "name": "ipython",
    "version": 3
   },
   "file_extension": ".py",
   "mimetype": "text/x-python",
   "name": "python",
   "nbconvert_exporter": "python",
   "pygments_lexer": "ipython3",
   "version": "3.6.8"
  }
 },
 "nbformat": 4,
 "nbformat_minor": 2
}
